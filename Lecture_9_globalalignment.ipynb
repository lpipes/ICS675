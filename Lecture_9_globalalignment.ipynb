{
 "cells": [
  {
   "cell_type": "code",
   "execution_count": 4,
   "id": "386e7f65-22c5-4605-9a59-e70b4b4886d0",
   "metadata": {},
   "outputs": [],
   "source": [
    "alphabet = ['A', 'C', 'G', 'T']\n",
    "score = [[0, 4, 2, 4, 8], \\\n",
    "         [4, 0, 4, 2, 8], \\\n",
    "         [2, 4, 0, 4, 8], \\\n",
    "         [4, 2, 4, 0, 8], \\\n",
    "         [8, 8, 8, 8, 8]]"
   ]
  },
  {
   "cell_type": "code",
   "execution_count": 5,
   "id": "5d82b0c1-5545-4ce0-874b-3fbc70c39d6f",
   "metadata": {},
   "outputs": [],
   "source": [
    "def globalAlignment(x,y):\n",
    "    D = []\n",
    "    for i in range(len(x)+1):\n",
    "        D.append([0]*(len(y)+1))\n",
    "    for i in range(1,len(x)+1):              #changed from range(len(x)+1)\n",
    "        D[i][0] = D[i-1][0] + score[alphabet.index(x[i-1])][-1]\n",
    "    for i in range(1,len(y)+1):              #changed from range(len(y+1))\n",
    "        D[0][i] = D[0][i-1] + score[-1][alphabet.index(y[i-1])]\n",
    "    for i in range(1,len(x)+1):\n",
    "        for j in range(1, len(y)+1):\n",
    "            distHor = D[i][j-1]+score[-1][alphabet.index(y[j-1])] #skip character in y (horizontal)\n",
    "            distVer = D[i-1][j]+score[alphabet.index(x[i-1])][-1] #skip character in x (vertical)\n",
    "            if x[i-1]==y[j-1]:\n",
    "                distDiag=D[i-1][j-1] \n",
    "            else:\n",
    "                distDiag=D[i-1][j-1]+ score[alphabet.index(x[i-1])][alphabet.index(y[j-1])]\n",
    "            D[i][j] = min(distHor, distVer, distDiag)\n",
    "    return D[-1][-1]"
   ]
  },
  {
   "cell_type": "code",
   "execution_count": 6,
   "id": "ffaac60b-67e7-4100-841b-29bcd9e6b7d9",
   "metadata": {},
   "outputs": [
    {
     "data": {
      "text/plain": [
       "0"
      ]
     },
     "execution_count": 6,
     "metadata": {},
     "output_type": "execute_result"
    }
   ],
   "source": [
    "x = 'ACCGTGAGCTCA'\n",
    "y = 'ACCGTGAGCTCA'\n",
    "globalAlignment(x,y)"
   ]
  },
  {
   "cell_type": "code",
   "execution_count": null,
   "id": "29e1e42c-8b30-45f1-ab55-72f24e8c3329",
   "metadata": {},
   "outputs": [],
   "source": []
  }
 ],
 "metadata": {
  "kernelspec": {
   "display_name": "Python 3 (ipykernel)",
   "language": "python",
   "name": "python3"
  },
  "language_info": {
   "codemirror_mode": {
    "name": "ipython",
    "version": 3
   },
   "file_extension": ".py",
   "mimetype": "text/x-python",
   "name": "python",
   "nbconvert_exporter": "python",
   "pygments_lexer": "ipython3",
   "version": "3.13.7"
  }
 },
 "nbformat": 4,
 "nbformat_minor": 5
}
